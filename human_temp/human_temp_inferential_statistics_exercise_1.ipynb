{
 "cells": [
  {
   "cell_type": "markdown",
   "metadata": {},
   "source": [
    "# What is the True Normal Human Body Temperature? \n",
    "\n",
    "#### Background\n",
    "\n",
    "The mean normal body temperature was held to be 37$^{\\circ}$C or 98.6$^{\\circ}$F for more than 120 years since it was first conceptualized and reported by Carl Wunderlich in a famous 1868 book. But, is this value statistically correct?"
   ]
  },
  {
   "cell_type": "code",
   "execution_count": 44,
   "metadata": {
    "collapsed": true
   },
   "outputs": [],
   "source": [
    "import pandas as pd\n",
    "import seaborn as sns\n",
    "import numpy as np\n",
    "import math\n",
    "import scipy.stats as st\n",
    "import statsmodels as sm\n",
    "import statsmodels.stats.weightstats as wst\n",
    "\n",
    "import matplotlib.pyplot as plt\n",
    "%matplotlib inline\n",
    "\n",
    "df = pd.read_csv('data/human_body_temperature.csv')"
   ]
  },
  {
   "cell_type": "markdown",
   "metadata": {},
   "source": [
    "## Summary info about the dataset"
   ]
  },
  {
   "cell_type": "code",
   "execution_count": 18,
   "metadata": {
    "collapsed": false
   },
   "outputs": [
    {
     "name": "stdout",
     "output_type": "stream",
     "text": [
      "<class 'pandas.core.frame.DataFrame'>\n",
      "RangeIndex: 130 entries, 0 to 129\n",
      "Data columns (total 3 columns):\n",
      "temperature    130 non-null float64\n",
      "gender         130 non-null object\n",
      "heart_rate     130 non-null float64\n",
      "dtypes: float64(2), object(1)\n",
      "memory usage: 3.1+ KB\n"
     ]
    }
   ],
   "source": [
    "df.info()\n",
    "# The dataset has 130 rows and all are non-null values"
   ]
  },
  {
   "cell_type": "code",
   "execution_count": 19,
   "metadata": {
    "collapsed": false
   },
   "outputs": [
    {
     "data": {
      "text/html": [
       "<div>\n",
       "<table border=\"1\" class=\"dataframe\">\n",
       "  <thead>\n",
       "    <tr style=\"text-align: right;\">\n",
       "      <th></th>\n",
       "      <th>0</th>\n",
       "    </tr>\n",
       "    <tr>\n",
       "      <th>gender</th>\n",
       "      <th></th>\n",
       "    </tr>\n",
       "  </thead>\n",
       "  <tbody>\n",
       "    <tr>\n",
       "      <th>F</th>\n",
       "      <td>65</td>\n",
       "    </tr>\n",
       "    <tr>\n",
       "      <th>M</th>\n",
       "      <td>65</td>\n",
       "    </tr>\n",
       "  </tbody>\n",
       "</table>\n",
       "</div>"
      ],
      "text/plain": [
       "         0\n",
       "gender    \n",
       "F       65\n",
       "M       65"
      ]
     },
     "execution_count": 19,
     "metadata": {},
     "output_type": "execute_result"
    }
   ],
   "source": [
    "pd.DataFrame(df.groupby(by = 'gender').size())\n",
    "# The dataset has 65 rows each for Male and Female"
   ]
  },
  {
   "cell_type": "code",
   "execution_count": 20,
   "metadata": {
    "collapsed": false
   },
   "outputs": [
    {
     "data": {
      "text/html": [
       "<div>\n",
       "<table border=\"1\" class=\"dataframe\">\n",
       "  <thead>\n",
       "    <tr style=\"text-align: right;\">\n",
       "      <th></th>\n",
       "      <th>temperature</th>\n",
       "      <th>heart_rate</th>\n",
       "    </tr>\n",
       "  </thead>\n",
       "  <tbody>\n",
       "    <tr>\n",
       "      <th>count</th>\n",
       "      <td>130.000000</td>\n",
       "      <td>130.000000</td>\n",
       "    </tr>\n",
       "    <tr>\n",
       "      <th>mean</th>\n",
       "      <td>98.249231</td>\n",
       "      <td>73.761538</td>\n",
       "    </tr>\n",
       "    <tr>\n",
       "      <th>std</th>\n",
       "      <td>0.733183</td>\n",
       "      <td>7.062077</td>\n",
       "    </tr>\n",
       "    <tr>\n",
       "      <th>min</th>\n",
       "      <td>96.300000</td>\n",
       "      <td>57.000000</td>\n",
       "    </tr>\n",
       "    <tr>\n",
       "      <th>25%</th>\n",
       "      <td>97.800000</td>\n",
       "      <td>69.000000</td>\n",
       "    </tr>\n",
       "    <tr>\n",
       "      <th>50%</th>\n",
       "      <td>98.300000</td>\n",
       "      <td>74.000000</td>\n",
       "    </tr>\n",
       "    <tr>\n",
       "      <th>75%</th>\n",
       "      <td>98.700000</td>\n",
       "      <td>79.000000</td>\n",
       "    </tr>\n",
       "    <tr>\n",
       "      <th>max</th>\n",
       "      <td>100.800000</td>\n",
       "      <td>89.000000</td>\n",
       "    </tr>\n",
       "  </tbody>\n",
       "</table>\n",
       "</div>"
      ],
      "text/plain": [
       "       temperature  heart_rate\n",
       "count   130.000000  130.000000\n",
       "mean     98.249231   73.761538\n",
       "std       0.733183    7.062077\n",
       "min      96.300000   57.000000\n",
       "25%      97.800000   69.000000\n",
       "50%      98.300000   74.000000\n",
       "75%      98.700000   79.000000\n",
       "max     100.800000   89.000000"
      ]
     },
     "execution_count": 20,
     "metadata": {},
     "output_type": "execute_result"
    }
   ],
   "source": [
    "df.describe()\n",
    "# Stats about the temperature and heart_rate"
   ]
  },
  {
   "cell_type": "markdown",
   "metadata": {
    "collapsed": false
   },
   "source": [
    "## 1. Is the distribution of body temperatures normal?\n",
    "Although this is not a requirement for CLT to hold (read CLT carefully), it gives us some peace of mind that the population may also be normally distributed if we assume that this sample is representative of the population."
   ]
  },
  {
   "cell_type": "code",
   "execution_count": 21,
   "metadata": {
    "collapsed": false
   },
   "outputs": [
    {
     "data": {
      "text/plain": [
       "<matplotlib.axes._subplots.AxesSubplot at 0x1517231ba20>"
      ]
     },
     "execution_count": 21,
     "metadata": {},
     "output_type": "execute_result"
    },
    {
     "data": {
      "image/png": "[encoded data removed]",
      "text/plain": [
       "<matplotlib.figure.Figure at 0x15172402780>"
      ]
     },
     "metadata": {},
     "output_type": "display_data"
    }
   ],
   "source": [
    "# We will plot the histogram and kdepplot of body temperatures to see if the distribution is normal\n",
    "sns.distplot(df.temperature, bins = 50)"
   ]
  },
  {
   "cell_type": "markdown",
   "metadata": {},
   "source": [
    "From the above kde plot we can easily see that the sample is normally distributed. Interestingly, the histogram bars shows spikes for a range of values between 98 and 99."
   ]
  },
  {
   "cell_type": "markdown",
   "metadata": {},
   "source": [
    "## 2. Is the sample size large? Are the observations independent?\n",
    "Remember that this is a condition for the CLT, and hence the statistical tests we are using, to apply."
   ]
  },
  {
   "cell_type": "markdown",
   "metadata": {},
   "source": [
    " The dataset has very limited attributes, namely gender, temperature and heart_rate. There's no 'id' related attributes to \n",
    " verify these are independent observations. However, we can look at the count of unique values for temperature and heart_rate \n",
    " and verify these are sufficiently variable."
   ]
  },
  {
   "cell_type": "code",
   "execution_count": 22,
   "metadata": {
    "collapsed": false
   },
   "outputs": [
    {
     "data": {
      "text/plain": [
       "NormaltestResult(statistic=0.85411330318072864, pvalue=0.65242659017700122)"
      ]
     },
     "execution_count": 22,
     "metadata": {},
     "output_type": "execute_result"
    }
   ],
   "source": [
    "import scipy.stats as stats \n",
    "x=stats.norm.rvs(size=100)\n",
    "#x is a list of 100 values drawn from a normal distribution \n",
    "stats.normaltest(x) # this would do a chisquare test and return two values. first value would be chi squared statistic and\n"
   ]
  },
  {
   "cell_type": "code",
   "execution_count": 23,
   "metadata": {
    "collapsed": false
   },
   "outputs": [
    {
     "data": {
      "text/plain": [
       "NormaltestResult(statistic=25.498777712405463, pvalue=2.9040946858798758e-06)"
      ]
     },
     "execution_count": 23,
     "metadata": {},
     "output_type": "execute_result"
    }
   ],
   "source": [
    "y = stats.uniform.rvs(size =100)\n",
    "stats.normaltest(y)"
   ]
  },
  {
   "cell_type": "code",
   "execution_count": 24,
   "metadata": {
    "collapsed": false
   },
   "outputs": [
    {
     "data": {
      "text/plain": [
       "(array([ 12.,  11.,   7.,   8.,  14.,   9.,  11.,  10.,   9.,   9.]),\n",
       " array([ 0.00279863,  0.10033063,  0.19786264,  0.29539464,  0.39292664,\n",
       "         0.49045864,  0.58799064,  0.68552264,  0.78305464,  0.88058664,\n",
       "         0.97811864]),\n",
       " <a list of 10 Patch objects>)"
      ]
     },
     "execution_count": 24,
     "metadata": {},
     "output_type": "execute_result"
    },
    {
     "data": {
      "image/png": "[encoded data removed]",
      "text/plain": [
       "<matplotlib.figure.Figure at 0x15173611dd8>"
      ]
     },
     "metadata": {},
     "output_type": "display_data"
    }
   ],
   "source": [
    "plt.hist(y)"
   ]
  },
  {
   "cell_type": "code",
   "execution_count": 25,
   "metadata": {
    "collapsed": false
   },
   "outputs": [
    {
     "data": {
      "text/plain": [
       "NormaltestResult(statistic=2.7038014333192031, pvalue=0.2587479863488254)"
      ]
     },
     "execution_count": 25,
     "metadata": {},
     "output_type": "execute_result"
    }
   ],
   "source": [
    "stats.normaltest(df.temperature)"
   ]
  },
  {
   "cell_type": "code",
   "execution_count": 26,
   "metadata": {
    "collapsed": false
   },
   "outputs": [
    {
     "data": {
      "text/plain": [
       "temperature\n",
       "96.3      1\n",
       "96.4      1\n",
       "96.7      2\n",
       "96.8      1\n",
       "96.9      1\n",
       "97.0      1\n",
       "97.1      3\n",
       "97.2      3\n",
       "97.3      1\n",
       "97.4      5\n",
       "97.5      2\n",
       "97.6      4\n",
       "97.7      3\n",
       "97.8      7\n",
       "97.9      5\n",
       "98.0     11\n",
       "98.1      3\n",
       "98.2     10\n",
       "98.3      5\n",
       "98.4      9\n",
       "98.5      3\n",
       "98.6     10\n",
       "98.7      8\n",
       "98.8     10\n",
       "98.9      2\n",
       "99.0      5\n",
       "99.1      3\n",
       "99.2      3\n",
       "99.3      2\n",
       "99.4      2\n",
       "99.5      1\n",
       "99.9      1\n",
       "100.0     1\n",
       "100.8     1\n",
       "dtype: int64"
      ]
     },
     "execution_count": 26,
     "metadata": {},
     "output_type": "execute_result"
    }
   ],
   "source": [
    " df.groupby(by = 'temperature').size()\n",
    "# (df.temperature //1 ).value_counts().sort_index()"
   ]
  },
  {
   "cell_type": "code",
   "execution_count": 27,
   "metadata": {
    "collapsed": false
   },
   "outputs": [
    {
     "data": {
      "text/plain": [
       "heart_rate\n",
       "57.0     2\n",
       "58.0     1\n",
       "59.0     1\n",
       "61.0     2\n",
       "62.0     2\n",
       "63.0     1\n",
       "64.0     6\n",
       "65.0     3\n",
       "66.0     4\n",
       "67.0     2\n",
       "68.0     6\n",
       "69.0     6\n",
       "70.0     7\n",
       "71.0     6\n",
       "72.0     5\n",
       "73.0    10\n",
       "74.0     6\n",
       "75.0     5\n",
       "76.0     3\n",
       "77.0     7\n",
       "78.0    10\n",
       "79.0     7\n",
       "80.0     4\n",
       "81.0     5\n",
       "82.0     5\n",
       "83.0     4\n",
       "84.0     4\n",
       "85.0     1\n",
       "86.0     2\n",
       "87.0     1\n",
       "89.0     2\n",
       "dtype: int64"
      ]
     },
     "execution_count": 27,
     "metadata": {},
     "output_type": "execute_result"
    }
   ],
   "source": [
    "df.groupby(by = 'heart_rate').size()"
   ]
  },
  {
   "cell_type": "markdown",
   "metadata": {},
   "source": [
    "From the above, we can conclude that the observations are independent.\n",
    "Also, the sample size is 130 which is sufficiently large to apply z statistics and CLT"
   ]
  },
  {
   "cell_type": "markdown",
   "metadata": {},
   "source": [
    "## 3. Is the true population mean really 98.6 degrees F?\n"
   ]
  },
  {
   "cell_type": "markdown",
   "metadata": {},
   "source": [
    "### * Would you use a one-sample or two-sample test? Why?\n",
    "\n",
    "    A one-sample test would be appropriate here as we will consider the available sample as a single sample representing the population. The null hypothesis is that the population mean is 98.6 F. The alternate hypothesis is that the true population mean is not 98.6 F. It could be either lesser or greater than 98.6. So we could use a one-sample two tailed test.\n",
    "    \n",
    "### * In this situation, is it appropriate to use the t or z statistic?\n",
    "\n",
    "    The sample size is 130 which is not too small. So we can use z statistic if we assume that the observed standard deviation approximates the population standard deviation. \n",
    "    "
   ]
  },
  {
   "cell_type": "markdown",
   "metadata": {},
   "source": [
    "####  One-sample test for population mean"
   ]
  },
  {
   "cell_type": "code",
   "execution_count": 28,
   "metadata": {
    "collapsed": false
   },
   "outputs": [],
   "source": [
    "sample_mean = np.mean(df.temperature)\n",
    "sample_sd = np.std(df.temperature)\n",
    "#se = sample_sd / math.sqrt(130)\n",
    "se = st.sem(df.temperature)"
   ]
  },
  {
   "cell_type": "code",
   "execution_count": 48,
   "metadata": {
    "collapsed": false
   },
   "outputs": [
    {
     "data": {
      "text/plain": [
       "2.451078507056712e-08"
      ]
     },
     "execution_count": 48,
     "metadata": {},
     "output_type": "execute_result"
    }
   ],
   "source": [
    "#Considering a two-tailed test with alpha of 1% \n",
    "# Since the observed mean is less than 98.6, finding the lower tail probability of getting a value less than or equal to \n",
    "# the observed sample mean\n",
    "lower_tail_prob = st.norm.cdf(sample_mean, loc = 98.6, scale = se) \n",
    "lower_tail_prob\n",
    "#st.norm.interval(0.95, loc = 98.6, scale =se)"
   ]
  },
  {
   "cell_type": "code",
   "execution_count": 49,
   "metadata": {
    "collapsed": false
   },
   "outputs": [
    {
     "name": "stdout",
     "output_type": "stream",
     "text": [
      "The result is statistically significant to prove the true population mean temperature may not be 98.6\n"
     ]
    }
   ],
   "source": [
    "# Since it's a two tailed test, the alpha value has to be divided between the lower and upper tails, 0.5% each.\n",
    "# Comparing the prob of observed value to 0.5%\n",
    "if (lower_tail_prob < 0.005 ) :\n",
    "    print ('The result is statistically significant to prove the true population mean temperature may not be 98.6')\n"
   ]
  },
  {
   "cell_type": "code",
   "execution_count": 51,
   "metadata": {
    "collapsed": false
   },
   "outputs": [
    {
     "data": {
      "text/plain": [
       "(-5.4548232923645195, 4.9021570141012155e-08)"
      ]
     },
     "execution_count": 51,
     "metadata": {},
     "output_type": "execute_result"
    }
   ],
   "source": [
    "# Trying an alternative way of doing the one-sample test \n",
    "wst.ztest(x1 = df.temperature, value = 98.6)\n",
    "# The two tailed p-value is less than the alpha value of 0.01"
   ]
  },
  {
   "cell_type": "markdown",
   "metadata": {},
   "source": [
    "### * Now try using the other test. How is the result be different? Why?\n",
    "\n",
    "Note - Assuming the other test meant here is the 'One-tail' test and not two-sample test. "
   ]
  },
  {
   "cell_type": "code",
   "execution_count": 54,
   "metadata": {
    "collapsed": false
   },
   "outputs": [
    {
     "name": "stdout",
     "output_type": "stream",
     "text": [
      "The result is statistically significant to prove the true population mean temperature is less than 98.6\n"
     ]
    },
    {
     "data": {
      "text/plain": [
       "2.4510785070506077e-08"
      ]
     },
     "execution_count": 54,
     "metadata": {},
     "output_type": "execute_result"
    }
   ],
   "source": [
    "# Considering a one-tail test with alternate hypothesis as true population mean temperature is less than 98.6\n",
    "# Comparing the prob of observed value to 1%\n",
    "tstat, pval = wst.ztest(x1 = df.temperature, value = 98.6, alternative='smaller')\n",
    "if (pval < 1 ) :\n",
    "    print ('The result is statistically significant to prove the true population mean temperature is less than 98.6')\n",
    "pval"
   ]
  },
  {
   "cell_type": "markdown",
   "metadata": {},
   "source": [
    "The result is not different between the one-tail test and two-tail test, the reason being that the p-value seen is very low."
   ]
  },
  {
   "cell_type": "markdown",
   "metadata": {},
   "source": [
    "## 4. At what temperature should we consider someone's temperature to be \"abnormal\"?\n",
    "### * Start by computing the margin of error and confidence interval."
   ]
  },
  {
   "cell_type": "code",
   "execution_count": 33,
   "metadata": {
    "collapsed": false
   },
   "outputs": [
    {
     "data": {
      "text/plain": [
       "(98.123196428181657, 98.375265110279898)"
      ]
     },
     "execution_count": 33,
     "metadata": {},
     "output_type": "execute_result"
    }
   ],
   "source": [
    "# Computing the 95% confidence interval \n",
    "conf_interval = st.norm.interval(.95, loc = sample_mean, scale = se)\n",
    "conf_interval\n"
   ]
  },
  {
   "cell_type": "code",
   "execution_count": 34,
   "metadata": {
    "collapsed": false
   },
   "outputs": [
    {
     "data": {
      "text/plain": [
       "0.126"
      ]
     },
     "execution_count": 34,
     "metadata": {},
     "output_type": "execute_result"
    }
   ],
   "source": [
    "# Margin of error calculation. \n",
    "lower, upper = conf_interval\n",
    "moe = (upper - lower) /2\n",
    "round(moe, 3)"
   ]
  },
  {
   "cell_type": "markdown",
   "metadata": {},
   "source": [
    "Based on the observed sample, the population mean of temperature is estimated to be in the below interval."
   ]
  },
  {
   "cell_type": "code",
   "execution_count": 35,
   "metadata": {
    "collapsed": false
   },
   "outputs": [
    {
     "data": {
      "text/plain": [
       "(98.123196428181657, 98.375265110279898)"
      ]
     },
     "execution_count": 35,
     "metadata": {},
     "output_type": "execute_result"
    }
   ],
   "source": [
    "conf_interval"
   ]
  },
  {
   "cell_type": "markdown",
   "metadata": {},
   "source": [
    "OR"
   ]
  },
  {
   "cell_type": "code",
   "execution_count": 36,
   "metadata": {
    "collapsed": false
   },
   "outputs": [
    {
     "name": "stdout",
     "output_type": "stream",
     "text": [
      "98.249231 +- 0.126034\n"
     ]
    }
   ],
   "source": [
    "print(\"%f +- %f\" %(sample_mean,moe))"
   ]
  },
  {
   "cell_type": "markdown",
   "metadata": {},
   "source": [
    "So, a temperature outside of this range can be considered abnormal."
   ]
  },
  {
   "cell_type": "markdown",
   "metadata": {},
   "source": [
    "## Is there a significant difference between males and females in normal temperature?\n",
    "What test did you use and why?\n",
    "Write a story with your conclusion in the context of the original problem."
   ]
  },
  {
   "cell_type": "markdown",
   "metadata": {},
   "source": [
    "Here we can use a two-sample test and see whether males and females differ in normal temperature. \n",
    "In the dataset we have the data for males and females in 65 records each. "
   ]
  },
  {
   "cell_type": "code",
   "execution_count": 37,
   "metadata": {
    "collapsed": false
   },
   "outputs": [],
   "source": [
    "# Separating the male and female datasets\n",
    "m_df = df[df.gender == 'M']\n",
    "f_df = df[df.gender == 'F']\n"
   ]
  },
  {
   "cell_type": "code",
   "execution_count": 45,
   "metadata": {
    "collapsed": false
   },
   "outputs": [
    {
     "data": {
      "text/plain": [
       "(-2.2854345381656103, 0.02228736076065755)"
      ]
     },
     "execution_count": 45,
     "metadata": {},
     "output_type": "execute_result"
    }
   ],
   "source": [
    "# Assuming equal variance for male and female groups\n",
    "#st.ttest_ind(m_df.temperature, f_df.temperature)\n",
    "wst.ztest(x1 = m_df.temperature, x2 = f_df.temperature)\n"
   ]
  },
  {
   "cell_type": "markdown",
   "metadata": {},
   "source": [
    "Considering an alpha value of 1%, the observed p-value of 2.4% is not statistically significant. \n",
    "Hence we fail to reject the null hypothesis that there's no difference in normal temperature between males and females. "
   ]
  }
 ],
 "metadata": {
  "kernelspec": {
   "display_name": "Python 3",
   "language": "python",
   "name": "python3"
  },
  "language_info": {
   "codemirror_mode": {
    "name": "ipython",
    "version": 3
   },
   "file_extension": ".py",
   "mimetype": "text/x-python",
   "name": "python",
   "nbconvert_exporter": "python",
   "pygments_lexer": "ipython3",
   "version": "3.6.0"
  }
 },
 "nbformat": 4,
 "nbformat_minor": 0
}
